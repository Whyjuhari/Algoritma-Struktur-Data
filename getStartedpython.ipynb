{
 "cells": [
  {
   "cell_type": "markdown",
   "metadata": {},
   "source": [
    "### 1. Variabel"
   ]
  },
  {
   "cell_type": "code",
   "execution_count": 48,
   "metadata": {},
   "outputs": [
    {
     "name": "stdout",
     "output_type": "stream",
     "text": [
      "JuhariCoding\n",
      "20000\n",
      "True\n",
      "\n",
      "<class 'str'>\n",
      "<class 'int'>\n",
      "<class 'bool'>\n"
     ]
    }
   ],
   "source": [
    "# variabel : adalah 'penanda' identitas yang di gunakan untuk menampung suatu nilai\n",
    "# Nilai tersebut dapat di ubah sepanjang kode program\n",
    "# Cara pembuatan variabel dalam bahasa python\n",
    "# Dalam pemrograman bahasa python. kita tidak perlu mendeklarasikan variabel untuk bisa\n",
    "# Menggunakannya\n",
    "# gunakan tanda sama degan (=) seperti contoh berikut\n",
    "website = \"JuhariCoding\"\n",
    "harga   = 20000\n",
    "sukses  = True\n",
    "\n",
    "# Cara menampilkan Variabel Dalam Bahasa Python\n",
    "# Untuk menampilkan nilai variabel dalam bahasa python,\n",
    "# Kita bisa menggunakan perintah print\n",
    "# contoh Berikut :\n",
    "print(website)\n",
    "print(harga)\n",
    "print(sukses)\n",
    "\n",
    "# Melihat tipe data yang di gunakan variabel\n",
    "# Dengan cara : type(nama variabel)\n",
    "print()\n",
    "print(type(website))\n",
    "print(type(harga))\n",
    "print(type(sukses))"
   ]
  },
  {
   "cell_type": "code",
   "execution_count": 2,
   "metadata": {},
   "outputs": [
    {
     "name": "stdout",
     "output_type": "stream",
     "text": [
      "JuhariCoding\n",
      "Python\n",
      "Google\n"
     ]
    }
   ],
   "source": [
    "# mengubah nilai variabel pada python\n",
    "website = \"JuhariCoding\"\n",
    "print(website)\n",
    "website = \"Python\"\n",
    "print(website)\n",
    "website = \"Google\"\n",
    "print(website)"
   ]
  },
  {
   "cell_type": "markdown",
   "metadata": {},
   "source": [
    "### 2. Tipe data pada python"
   ]
  },
  {
   "cell_type": "code",
   "execution_count": 5,
   "metadata": {},
   "outputs": [
    {
     "name": "stdout",
     "output_type": "stream",
     "text": [
      "Belajar python\n",
      "2004\n",
      "70.1\n",
      "True\n"
     ]
    }
   ],
   "source": [
    "## Tipe data : adalah cara kita memberitahu komputer untuk mengelompokkan \n",
    "# data berdasarkan apa yang di pahami oleh komputer.\n",
    "# Sebagai contoh, misalkan saya memiliki data berupa angka. Agar bisa di pahami ole Interpreter bahasa python,\n",
    "# data ini di simpan ke dalam variabel.\n",
    "# Nantinya variabel ini akan di proses sesuai dengan tipe data angka.\n",
    "\n",
    "## Ada beberapa jenis tipe data dari python\n",
    "\n",
    "# Tipe data string : kumpulan karakter\n",
    "data_string = \"Belajar python\"\n",
    "print(data_string)\n",
    "\n",
    "# Tipe data integer : angka satuan / bilangan bulat\n",
    "data_integer = 2004\n",
    "print(data_integer)\n",
    "\n",
    "# Tipe data float : angka pecahan \n",
    "data_float = 70.1\n",
    "print(data_float)\n",
    "\n",
    "# Tipe data boolean : atau bisa disebut tipe data biner karena hanya ada dua nilai\n",
    "# True(1) False(0)\n",
    "data_bool = True\n",
    "print(data_bool)\n",
    " \n",
    "# Yang saya pakai disini hanya tipe data dasar dari python saja"
   ]
  },
  {
   "cell_type": "markdown",
   "metadata": {},
   "source": [
    "### 3. Operator pada python\n"
   ]
  },
  {
   "cell_type": "code",
   "execution_count": 12,
   "metadata": {},
   "outputs": [
    {
     "name": "stdout",
     "output_type": "stream",
     "text": [
      "10 + 3 = 13\n",
      "10 - 3 = 7\n",
      "10 * 3 = 30\n",
      "10 / 3 = 3.3333333333333335\n",
      "10 // 3 = 3\n",
      "10 % 3 = 1\n",
      "10 ** 3 = 1000\n"
     ]
    }
   ],
   "source": [
    "## Operator aritmatika : adalah operator yang biasa kita temukan untuk operasi matematika.\n",
    "# Contoh sebagai berikut :\n",
    "\n",
    "x = 10\n",
    "y = 3\n",
    "\n",
    "# operasi penjumlahan (+)\n",
    "hasil = x + y\n",
    "print(x,\"+\",y,\"=\",hasil)\n",
    "\n",
    "# operasi pengurangan (-)\n",
    "hasil = x - y\n",
    "print(x,\"-\",y,\"=\",hasil)\n",
    "\n",
    "# operasi perkalian (*)\n",
    "hasil = x * y\n",
    "print(x,\"*\",y,\"=\",hasil)\n",
    "\n",
    "# operasi pembagian (/)\n",
    "hasil = x / y\n",
    "print(x,\"/\",y,\"=\",hasil)\n",
    "\n",
    "# operasi pembagian bulat (//)\n",
    "hasil = x // y\n",
    "print(x,\"//\",y,\"=\",hasil)\n",
    "\n",
    "# operasi modulus / sisa hasil bagi (%)\n",
    "hasil = x % y\n",
    "print(x,\"%\",y,\"=\",hasil)\n",
    "\n",
    "# operasi perpankatan (**)\n",
    "hasil = x ** y\n",
    "print(x,\"**\",y,\"=\",hasil)"
   ]
  },
  {
   "cell_type": "code",
   "execution_count": 24,
   "metadata": {},
   "outputs": [
    {
     "name": "stdout",
     "output_type": "stream",
     "text": [
      "Nilai = 2\n",
      "Nilai += 3, nilai menjadi = 5\n",
      "Nilai -= 2, nilai menjadi = 3\n",
      "Nilai *= 8, nilai menjadi = 24\n",
      "Nilai /= 2, nilai menjadi = 12.0\n",
      "Nilai %= 5, nilai menjadi = 2.0\n",
      "Nilai **= 6, nilai menjadi = 64.0\n",
      "Nilai //= 4, nilai menjadi = 16.0\n"
     ]
    }
   ],
   "source": [
    "## Operator penugasan/Assignment : adalah operator untuk memasukkan suatu nilai\n",
    "# ke dalam variabel\n",
    "# contoh :\n",
    "\n",
    "# Sama dengan (=)\n",
    "nilai = 2 # ini diebut sebagai assignment\n",
    "print(\"Nilai =\",nilai)\n",
    "\n",
    "# Tambah sama dengan (+=)\n",
    "nilai += 3 # Artinya adalah nilai = nilai + 3\n",
    "print(\"Nilai += 3, nilai menjadi =\",nilai)\n",
    "\n",
    "# Kurang sama dengan (-=)\n",
    "nilai -= 2 # Artinya adalah nilai = nilai - 2\n",
    "print(\"Nilai -= 2, nilai menjadi =\",nilai)\n",
    "\n",
    "# Kali sama dengan (*=)\n",
    "nilai *= 8 # Artinya adalah nilai = nilai * 8\n",
    "print(\"Nilai *= 8, nilai menjadi =\",nilai)\n",
    "\n",
    "# Bagi sama dengan (/=) Hasilnya angka pecahan\n",
    "nilai /= 2 # Artinya adalah nilai = nilai / 2\n",
    "print(\"Nilai /= 2, nilai menjadi =\",nilai)\n",
    "\n",
    "# Modulus sama dengan (%=)\n",
    "nilai %= 5 # Artinya adalah nilai = nilai % 5\n",
    "# Kenapa bisa hasilnya 2.0. Karena 12 / 5 = sisa 2\n",
    "print(\"Nilai %= 5, nilai menjadi =\",nilai) \n",
    "\n",
    "# Pankat sama dengan (**=)\n",
    "nilai **= 6 # Artinya nilai = nilai ** 6\n",
    "print(\"Nilai **= 6, nilai menjadi =\",nilai)\n",
    "\n",
    "# Pembagian bulat sama dengan (//=)\n",
    "nilai //= 4 # Artinya nilai = nilai // 4\n",
    "print(\"Nilai //= 4, nilai menjadi =\",nilai) \n",
    "\n",
    "\n",
    "\n",
    "# "
   ]
  },
  {
   "cell_type": "code",
   "execution_count": 30,
   "metadata": {},
   "outputs": [
    {
     "name": "stdout",
     "output_type": "stream",
     "text": [
      "5 == 3 = False\n",
      "5 != 7 = True\n",
      "5 > 3 = True\n",
      "5 < 2 = False\n",
      "5 >= 5 = True\n",
      "5 <= 2 = False\n"
     ]
    }
   ],
   "source": [
    "## Operator perbandingan\n",
    "# Di pakai untuk membandinkan dua buah nilai, \n",
    "# Hasil dari operator perbandingan ini adalah boolean\n",
    "# True(1) False(0)\n",
    "\n",
    "# Sama dengan (==)\n",
    "Angka = 5 \n",
    "hasil = Angka == 3\n",
    "print(Angka, \"==\",3,\"=\",hasil)\n",
    "\n",
    "# Tidak sama dengan (!=)\n",
    "hasil = Angka != 7\n",
    "print(Angka,\"!=\",7,\"=\",hasil)\n",
    "\n",
    "# Lebih besar (>)\n",
    "hasil = Angka > 3\n",
    "print(Angka,\">\",3,\"=\",hasil)\n",
    "\n",
    "# Lebih kecil (<)\n",
    "hasil = Angka < 2\n",
    "print(Angka,\"<\",2,\"=\",hasil)\n",
    "\n",
    "# Lebih besar atau sama dengan (>=)\n",
    "hasil = Angka >= 5\n",
    "print(Angka,\">=\",5,\"=\",hasil)\n",
    "\n",
    "# Lebih kecil atau sama dengan (<=)\n",
    "hasil = Angka <= 2\n",
    "print(Angka,\"<=\",2,\"=\",hasil)"
   ]
  },
  {
   "cell_type": "code",
   "execution_count": 34,
   "metadata": {},
   "outputs": [
    {
     "name": "stdout",
     "output_type": "stream",
     "text": [
      "======AND=====\n",
      "Hasil dari True and True    : True\n",
      "Hasil dari True and False   : False\n",
      "Hasil dari False and True   : False\n",
      "Hasil dari False and False  : False\n",
      "\n",
      "======OR=====\n",
      "Hasil dari True or True     : True\n",
      "Hasil dari True or False    : True\n",
      "Hasil dari False or True    : True\n",
      "Hasil dari False or False   : False\n",
      "\n",
      "======NOT=====\n",
      "Hasil dari not True  : False\n",
      "Hasil dari not False : True\n"
     ]
    }
   ],
   "source": [
    "## Operator Logika\n",
    "# Operator logika adalah operator yang di gunakan untuk membuat kesimpulan logis\n",
    "# Dari dua kondisi boolean  : True atau False\n",
    "# operator logika hanya bisa di isi dengan operand yang bernilai\n",
    "# True atau False\n",
    "# di python terdapat 3 operasi logika\n",
    "# 1. and : True jika kedua operand bernilai True\n",
    "# Selain itu False :\n",
    "# Berikut Contohnya :\n",
    "print(\"======AND=====\")\n",
    "print(\"Hasil dari True and True    :\", True and True)\n",
    "print(\"Hasil dari True and False   :\", True and False)\n",
    "print(\"Hasil dari False and True   :\", False and True)\n",
    "print(\"Hasil dari False and False  :\", False and False)\n",
    "\n",
    "# 2. or  : True jika salah satu operand bernilai True\n",
    "# Akan False ketika kedua operand bernilai False\n",
    "print()\n",
    "print(\"======OR=====\")\n",
    "print(\"Hasil dari True or True     :\", True or True)\n",
    "print(\"Hasil dari True or False    :\", True or False)\n",
    "print(\"Hasil dari False or True    :\", False or True)\n",
    "print(\"Hasil dari False or False   :\", False or False)\n",
    "\n",
    "# 3. not : True jika operand bernilai False\n",
    "print()\n",
    "print(\"======NOT=====\")\n",
    "print(\"Hasil dari not True  :\",not True)\n",
    "print(\"Hasil dari not False :\",not False)"
   ]
  },
  {
   "cell_type": "markdown",
   "metadata": {},
   "source": [
    "### 4. Percabangan pada python"
   ]
  },
  {
   "cell_type": "code",
   "execution_count": 37,
   "metadata": {},
   "outputs": [
    {
     "name": "stdout",
     "output_type": "stream",
     "text": [
      "Variabel a lebih besar dari variabel b\n",
      "Saya sedan belajar python\n"
     ]
    }
   ],
   "source": [
    "## Percabangan if\n",
    "# Sebagai contoh saya akan buat kode program sederhana, \n",
    "# yakni melihat apakah sebuah angka lebih besar dari angka lain,\n",
    "# lalu tampilkan hasil jika kondisi terpenuhi\n",
    "# Blok kode program dalam bahasa python di tandai dengan titik dua.\n",
    "# setelah penulisan condition, kemudian diikuti satu atau beberapa baris dengan awalan\n",
    "# whitespace di sisi kiri(boleh berupa spasi atau tab).\n",
    "# spasi di sisi kiri ini di kenal dengan istilah Indentation\n",
    "\n",
    "# Jika ingin menambah perintah lain di blok if yang sama,\n",
    "# tulis baris baru dengan awalan spasi yang sama :\n",
    "a = 12\n",
    "b = 10\n",
    "if a > b:\n",
    "    print(\"Variabel a lebih besar dari variabel b\")\n",
    "    print(\"Saya sedan belajar python\")"
   ]
  },
  {
   "cell_type": "code",
   "execution_count": 39,
   "metadata": {},
   "outputs": [],
   "source": [
    "# Jika kondisi if tidak terpenuhi, maka blok kode program tidak akan di eksekusi\n",
    "# Berikut contohnya :\n",
    "a = 12\n",
    "b = 10\n",
    "if a < b:\n",
    "    print(\"Variabel a lebih besar dari variabel b\")\n",
    "    print(\"Saya sedan belajar python\")\n",
    "\n",
    "# Dapat dilihat bahwa kode program diatas tidak menghasilkan apa-apa\n",
    "# Ini di sebabkan karena kondisi if tidak terpenuhi"
   ]
  },
  {
   "cell_type": "code",
   "execution_count": 40,
   "metadata": {},
   "outputs": [
    {
     "name": "stdout",
     "output_type": "stream",
     "text": [
      "Saya sedan belajar python\n"
     ]
    }
   ],
   "source": [
    "# Namun akan berbeda jika kita menulis nya kaya gini\n",
    "# Perintah print yang terakhir sudah tidak berada di dalam blok if\n",
    "# Perhatikan perbedaan spasi di awal\n",
    "# Artinya apapun hasil kondisi if. perintah print yang terakhir akan tetap di jalankan\n",
    "a = 12\n",
    "b = 10\n",
    "if a < b:\n",
    "    print(\"Variabel a lebih besar dari variabel b\")\n",
    "print(\"Saya sedan belajar python\")"
   ]
  },
  {
   "cell_type": "code",
   "execution_count": 41,
   "metadata": {},
   "outputs": [
    {
     "name": "stdout",
     "output_type": "stream",
     "text": [
      "Variabel a berisi angka ganjil\n"
     ]
    }
   ],
   "source": [
    "## Percabangan if else\n",
    "# Blok kode program if tetap akan di jalankan ketika kondisi True.\n",
    "# Namun sekarang terdapat tambahan bagian Else\n",
    "# akan di jalankan ketika kondisi False\n",
    "\n",
    "a = 7\n",
    "if a % 2 == 0:\n",
    "    print(\"Variabel a berisi angka genap\")\n",
    "else:\n",
    "    print(\"Variabel a berisi angka ganjil\")\n"
   ]
  },
  {
   "cell_type": "code",
   "execution_count": 46,
   "metadata": {},
   "outputs": [
    {
     "name": "stdout",
     "output_type": "stream",
     "text": [
      "Nilai : 85\n",
      "Harus lebih baik lagi\n"
     ]
    }
   ],
   "source": [
    "## Percabangan if else if (elif)\n",
    "# kondisi if else if adalah sebuah struktur logika program.\n",
    "# yang di dapat dengan cara menyambung beberapa kondisi if else menjadi sebuah kesatuan\n",
    "# jika kondisi pertama tidak terpenuhi atau bernilai False.\n",
    "# maka kode program akan lanjut ke kondisi if di bawahnya. \n",
    "# jika ternyata tidak juga terpenuhi, akan lanjut lagi ke kondisi if kebawahnya\n",
    "# Dst. Sampai blok Else terakhir atau terdapat kondisi if yang bernilai True.\n",
    "# berikut Contoh kode program nya\n",
    "\n",
    "nilai = 85\n",
    "print(\"Nilai :\",nilai)\n",
    "\n",
    "if nilai >= 90:\n",
    "    print(\"Pertahankan\")\n",
    "elif nilai >= 80 and nilai < 90: # Artinya : jika nilai lebih dari atau = 80 dan di bawah 90\n",
    "    print(\"Harus lebih baik lagi\")\n",
    "elif nilai >= 60 and nilai < 80:\n",
    "    print(\"Jangan keseringan main game!\")\n",
    "elif nilai < 40:\n",
    "    print(\"Kebanyakan Alpa...\")\n",
    "else:\n",
    "    print(\"Maaf format nilai tidak sesuai\")"
   ]
  }
 ],
 "metadata": {
  "interpreter": {
   "hash": "b89b5cfaba6639976dc87ff2fec6d58faec662063367e2c229c520fe71072417"
  },
  "kernelspec": {
   "display_name": "Python 3.10.2 64-bit",
   "language": "python",
   "name": "python3"
  },
  "language_info": {
   "codemirror_mode": {
    "name": "ipython",
    "version": 3
   },
   "file_extension": ".py",
   "mimetype": "text/x-python",
   "name": "python",
   "nbconvert_exporter": "python",
   "pygments_lexer": "ipython3",
   "version": "3.10.2"
  },
  "orig_nbformat": 4
 },
 "nbformat": 4,
 "nbformat_minor": 2
}
